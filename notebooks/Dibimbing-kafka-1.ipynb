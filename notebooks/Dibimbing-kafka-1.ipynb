{
 "cells": [
  {
   "cell_type": "code",
   "execution_count": 8,
   "id": "25846da4-c6b2-46a5-b7d1-9809732bb1b9",
   "metadata": {
    "tags": []
   },
   "outputs": [],
   "source": [
    "import json\n",
    "import uuid\n",
    "import os\n",
    "import json\n",
    "from dotenv import load_dotenv\n",
    "from pathlib import Path\n",
    "from kafka import KafkaProducer\n",
    "from faker import Faker\n",
    "from time import sleep"
   ]
  },
  {
   "cell_type": "code",
   "execution_count": 9,
   "id": "42f97822-c06f-47e0-a0a4-87a7bf1d95a9",
   "metadata": {
    "tags": []
   },
   "outputs": [
    {
     "data": {
      "text/plain": [
       "True"
      ]
     },
     "execution_count": 9,
     "metadata": {},
     "output_type": "execute_result"
    }
   ],
   "source": [
    "dotenv_path = Path('/resources/.env')\n",
    "load_dotenv(dotenv_path=dotenv_path)"
   ]
  },
  {
   "cell_type": "code",
   "execution_count": 10,
   "id": "3f89f5a9-8c75-4a38-b48d-ad72c6a13c41",
   "metadata": {
    "tags": []
   },
   "outputs": [],
   "source": [
    "kafka_host = os.getenv('KAFKA_HOST')\n",
    "kafka_topic = os.getenv('KAFKA_TOPIC_NAME')\n",
    "# kafka_topic_partition = os.getenv('KAFKA_TOPIC_NAME')+\"-1\"\n",
    "# kafka_topic_partition = \"dibimbing_batch_6\""
   ]
  },
  {
   "cell_type": "code",
   "execution_count": 11,
   "id": "a4a59d22-69c5-4e0a-b1e2-d0d77867c45b",
   "metadata": {
    "tags": []
   },
   "outputs": [
    {
     "name": "stdout",
     "output_type": "stream",
     "text": [
      "dataeng-kafka\n"
     ]
    }
   ],
   "source": [
    "print(kafka_host)"
   ]
  },
  {
   "cell_type": "code",
   "execution_count": 12,
   "id": "8515096d-3bc6-4905-98f5-eb1e6d7bfa4c",
   "metadata": {
    "tags": []
   },
   "outputs": [],
   "source": [
    "producer = KafkaProducer(bootstrap_servers=f'{kafka_host}:9092')"
   ]
  },
  {
   "cell_type": "code",
   "execution_count": 13,
   "id": "78075b5c-08c8-4c43-99a1-0689a87414c4",
   "metadata": {
    "tags": []
   },
   "outputs": [],
   "source": [
    "_instance = Faker()\n",
    "global faker\n",
    "faker = Faker()"
   ]
  },
  {
   "cell_type": "code",
   "execution_count": 14,
   "id": "af84bc68-f3e8-4d2f-964e-55a6672dbde4",
   "metadata": {
    "tags": []
   },
   "outputs": [],
   "source": [
    "kafka_topic_partition = 'de-7-mantul'"
   ]
  },
  {
   "cell_type": "code",
   "execution_count": 15,
   "id": "503ade79-0f77-4970-8e04-ecefce397398",
   "metadata": {
    "tags": []
   },
   "outputs": [
    {
     "name": "stdout",
     "output_type": "stream",
     "text": [
      "94f1c8f7-9964-4763-bc2d-77e2ba3c6059 RecordMetadata(topic='de-7-mantul', partition=0, topic_partition=TopicPartition(topic='de-7-mantul', partition=0), offset=0, timestamp=1730001699393, log_start_offset=0, checksum=None, serialized_key_size=-1, serialized_value_size=179, serialized_header_size=-1)\n",
      "a2d4539f-e919-47db-b642-85a67bc8222a RecordMetadata(topic='de-7-mantul', partition=0, topic_partition=TopicPartition(topic='de-7-mantul', partition=0), offset=1, timestamp=1730001704400, log_start_offset=0, checksum=None, serialized_key_size=-1, serialized_value_size=177, serialized_header_size=-1)\n",
      "f2f4b42a-9477-4f30-9771-a2889a45c166 RecordMetadata(topic='de-7-mantul', partition=0, topic_partition=TopicPartition(topic='de-7-mantul', partition=0), offset=2, timestamp=1730001709409, log_start_offset=0, checksum=None, serialized_key_size=-1, serialized_value_size=179, serialized_header_size=-1)\n",
      "be827928-0b42-4b5c-8c07-7c03de13f263 RecordMetadata(topic='de-7-mantul', partition=0, topic_partition=TopicPartition(topic='de-7-mantul', partition=0), offset=3, timestamp=1730001714418, log_start_offset=0, checksum=None, serialized_key_size=-1, serialized_value_size=182, serialized_header_size=-1)\n",
      "164dc2fb-3395-4f09-864f-c2a2bec14b83 RecordMetadata(topic='de-7-mantul', partition=0, topic_partition=TopicPartition(topic='de-7-mantul', partition=0), offset=4, timestamp=1730001719425, log_start_offset=0, checksum=None, serialized_key_size=-1, serialized_value_size=186, serialized_header_size=-1)\n",
      "e4a3aafb-4c7a-42c9-ab95-35006a7f9a9d RecordMetadata(topic='de-7-mantul', partition=0, topic_partition=TopicPartition(topic='de-7-mantul', partition=0), offset=5, timestamp=1730001724435, log_start_offset=0, checksum=None, serialized_key_size=-1, serialized_value_size=178, serialized_header_size=-1)\n",
      "8be4f148-83c1-43e8-832c-ba1b26e3c766 RecordMetadata(topic='de-7-mantul', partition=0, topic_partition=TopicPartition(topic='de-7-mantul', partition=0), offset=6, timestamp=1730001729444, log_start_offset=0, checksum=None, serialized_key_size=-1, serialized_value_size=183, serialized_header_size=-1)\n",
      "7886a7a0-7825-4a01-ac72-5ca4cb553afb RecordMetadata(topic='de-7-mantul', partition=0, topic_partition=TopicPartition(topic='de-7-mantul', partition=0), offset=7, timestamp=1730001734451, log_start_offset=0, checksum=None, serialized_key_size=-1, serialized_value_size=179, serialized_header_size=-1)\n",
      "47085d68-1848-4484-826f-923b108f530e RecordMetadata(topic='de-7-mantul', partition=0, topic_partition=TopicPartition(topic='de-7-mantul', partition=0), offset=8, timestamp=1730001739459, log_start_offset=0, checksum=None, serialized_key_size=-1, serialized_value_size=188, serialized_header_size=-1)\n",
      "8f4a5c9d-6cf2-47fb-be10-17af53cc081b RecordMetadata(topic='de-7-mantul', partition=0, topic_partition=TopicPartition(topic='de-7-mantul', partition=0), offset=9, timestamp=1730001744462, log_start_offset=0, checksum=None, serialized_key_size=-1, serialized_value_size=185, serialized_header_size=-1)\n",
      "96843caa-6c20-4f26-87f9-a47ecdb14468 RecordMetadata(topic='de-7-mantul', partition=0, topic_partition=TopicPartition(topic='de-7-mantul', partition=0), offset=10, timestamp=1730001749471, log_start_offset=0, checksum=None, serialized_key_size=-1, serialized_value_size=183, serialized_header_size=-1)\n",
      "eedab128-f3d8-4845-a845-31b1990f07dc RecordMetadata(topic='de-7-mantul', partition=0, topic_partition=TopicPartition(topic='de-7-mantul', partition=0), offset=11, timestamp=1730001754481, log_start_offset=0, checksum=None, serialized_key_size=-1, serialized_value_size=182, serialized_header_size=-1)\n",
      "46cb47d8-3b53-4670-9904-3d8d97d6a92d RecordMetadata(topic='de-7-mantul', partition=0, topic_partition=TopicPartition(topic='de-7-mantul', partition=0), offset=12, timestamp=1730001759489, log_start_offset=0, checksum=None, serialized_key_size=-1, serialized_value_size=179, serialized_header_size=-1)\n",
      "342811c0-3927-40a1-897b-ab6902042276 RecordMetadata(topic='de-7-mantul', partition=0, topic_partition=TopicPartition(topic='de-7-mantul', partition=0), offset=13, timestamp=1730001764498, log_start_offset=0, checksum=None, serialized_key_size=-1, serialized_value_size=179, serialized_header_size=-1)\n",
      "059a224c-60dd-4952-b3d3-e3af782dd165 RecordMetadata(topic='de-7-mantul', partition=0, topic_partition=TopicPartition(topic='de-7-mantul', partition=0), offset=14, timestamp=1730001769508, log_start_offset=0, checksum=None, serialized_key_size=-1, serialized_value_size=186, serialized_header_size=-1)\n",
      "e44941ec-023a-48aa-b448-e33eb52a8797 RecordMetadata(topic='de-7-mantul', partition=0, topic_partition=TopicPartition(topic='de-7-mantul', partition=0), offset=15, timestamp=1730001774515, log_start_offset=0, checksum=None, serialized_key_size=-1, serialized_value_size=179, serialized_header_size=-1)\n",
      "dad03c93-b75d-4ba3-9868-78d1dd3166c0 RecordMetadata(topic='de-7-mantul', partition=0, topic_partition=TopicPartition(topic='de-7-mantul', partition=0), offset=16, timestamp=1730001779524, log_start_offset=0, checksum=None, serialized_key_size=-1, serialized_value_size=184, serialized_header_size=-1)\n",
      "0e8fedb8-90a1-4875-95fd-bc57157902f0 RecordMetadata(topic='de-7-mantul', partition=0, topic_partition=TopicPartition(topic='de-7-mantul', partition=0), offset=17, timestamp=1730001784532, log_start_offset=0, checksum=None, serialized_key_size=-1, serialized_value_size=183, serialized_header_size=-1)\n",
      "0ce4e7c5-a7f6-40b7-b807-486ef8d56a69 RecordMetadata(topic='de-7-mantul', partition=0, topic_partition=TopicPartition(topic='de-7-mantul', partition=0), offset=18, timestamp=1730001789540, log_start_offset=0, checksum=None, serialized_key_size=-1, serialized_value_size=183, serialized_header_size=-1)\n",
      "2dc35984-8ad2-4b1c-ab50-5b47459aace9 RecordMetadata(topic='de-7-mantul', partition=0, topic_partition=TopicPartition(topic='de-7-mantul', partition=0), offset=19, timestamp=1730001794548, log_start_offset=0, checksum=None, serialized_key_size=-1, serialized_value_size=179, serialized_header_size=-1)\n",
      "b94e45b4-2871-48ee-81d1-820d536dcaa3 RecordMetadata(topic='de-7-mantul', partition=0, topic_partition=TopicPartition(topic='de-7-mantul', partition=0), offset=20, timestamp=1730001799556, log_start_offset=0, checksum=None, serialized_key_size=-1, serialized_value_size=179, serialized_header_size=-1)\n",
      "8800c144-3d21-4b7d-a264-fb9d13dd2ee9 RecordMetadata(topic='de-7-mantul', partition=0, topic_partition=TopicPartition(topic='de-7-mantul', partition=0), offset=21, timestamp=1730001804564, log_start_offset=0, checksum=None, serialized_key_size=-1, serialized_value_size=184, serialized_header_size=-1)\n",
      "10d70473-7afe-4781-91de-4cdb2b661e9d RecordMetadata(topic='de-7-mantul', partition=0, topic_partition=TopicPartition(topic='de-7-mantul', partition=0), offset=22, timestamp=1730001809572, log_start_offset=0, checksum=None, serialized_key_size=-1, serialized_value_size=187, serialized_header_size=-1)\n",
      "0105b841-c6d2-4e1f-9772-5d96d0ed99dd RecordMetadata(topic='de-7-mantul', partition=0, topic_partition=TopicPartition(topic='de-7-mantul', partition=0), offset=23, timestamp=1730001814580, log_start_offset=0, checksum=None, serialized_key_size=-1, serialized_value_size=179, serialized_header_size=-1)\n",
      "2bbef1a3-3d3b-4bc6-a686-eea185164a5b RecordMetadata(topic='de-7-mantul', partition=0, topic_partition=TopicPartition(topic='de-7-mantul', partition=0), offset=24, timestamp=1730001819590, log_start_offset=0, checksum=None, serialized_key_size=-1, serialized_value_size=186, serialized_header_size=-1)\n",
      "5155fc39-fdb9-41f5-aa60-3ba1f44b46a4 RecordMetadata(topic='de-7-mantul', partition=0, topic_partition=TopicPartition(topic='de-7-mantul', partition=0), offset=25, timestamp=1730001824598, log_start_offset=0, checksum=None, serialized_key_size=-1, serialized_value_size=187, serialized_header_size=-1)\n",
      "845afb5e-1ec0-4693-ba99-8f0410d8372b RecordMetadata(topic='de-7-mantul', partition=0, topic_partition=TopicPartition(topic='de-7-mantul', partition=0), offset=26, timestamp=1730001829607, log_start_offset=0, checksum=None, serialized_key_size=-1, serialized_value_size=182, serialized_header_size=-1)\n",
      "2e7f3481-b9c3-4823-8951-0a2d88784e5e RecordMetadata(topic='de-7-mantul', partition=0, topic_partition=TopicPartition(topic='de-7-mantul', partition=0), offset=27, timestamp=1730001834615, log_start_offset=0, checksum=None, serialized_key_size=-1, serialized_value_size=178, serialized_header_size=-1)\n",
      "092b8ed0-c720-45cb-82fe-0117b7009396 RecordMetadata(topic='de-7-mantul', partition=0, topic_partition=TopicPartition(topic='de-7-mantul', partition=0), offset=28, timestamp=1730001839624, log_start_offset=0, checksum=None, serialized_key_size=-1, serialized_value_size=184, serialized_header_size=-1)\n",
      "a0c1351c-946b-43d2-bed7-4c5ae7b965eb RecordMetadata(topic='de-7-mantul', partition=0, topic_partition=TopicPartition(topic='de-7-mantul', partition=0), offset=29, timestamp=1730001844633, log_start_offset=0, checksum=None, serialized_key_size=-1, serialized_value_size=184, serialized_header_size=-1)\n",
      "8b908b90-55f9-4948-b950-f168db2cb576 RecordMetadata(topic='de-7-mantul', partition=0, topic_partition=TopicPartition(topic='de-7-mantul', partition=0), offset=30, timestamp=1730001849638, log_start_offset=0, checksum=None, serialized_key_size=-1, serialized_value_size=179, serialized_header_size=-1)\n",
      "94257c2a-cd93-433d-a637-6c4932e52e75 RecordMetadata(topic='de-7-mantul', partition=0, topic_partition=TopicPartition(topic='de-7-mantul', partition=0), offset=31, timestamp=1730001854643, log_start_offset=0, checksum=None, serialized_key_size=-1, serialized_value_size=180, serialized_header_size=-1)\n",
      "97f5a21e-003f-4f8c-907d-d0221c1f46db RecordMetadata(topic='de-7-mantul', partition=0, topic_partition=TopicPartition(topic='de-7-mantul', partition=0), offset=32, timestamp=1730001859649, log_start_offset=0, checksum=None, serialized_key_size=-1, serialized_value_size=181, serialized_header_size=-1)\n",
      "f0944c7b-50d9-4c1f-9680-6c1fdc2a5ad8 RecordMetadata(topic='de-7-mantul', partition=0, topic_partition=TopicPartition(topic='de-7-mantul', partition=0), offset=33, timestamp=1730001864658, log_start_offset=0, checksum=None, serialized_key_size=-1, serialized_value_size=178, serialized_header_size=-1)\n",
      "287f9777-16a7-476e-a591-06cf38a381b6 RecordMetadata(topic='de-7-mantul', partition=0, topic_partition=TopicPartition(topic='de-7-mantul', partition=0), offset=34, timestamp=1730001869666, log_start_offset=0, checksum=None, serialized_key_size=-1, serialized_value_size=185, serialized_header_size=-1)\n",
      "4f5d1a54-ddfa-414c-a07e-1a86f2efb720 RecordMetadata(topic='de-7-mantul', partition=0, topic_partition=TopicPartition(topic='de-7-mantul', partition=0), offset=35, timestamp=1730001874676, log_start_offset=0, checksum=None, serialized_key_size=-1, serialized_value_size=184, serialized_header_size=-1)\n",
      "fae7d425-a2dd-495d-ad52-156d147a0962 RecordMetadata(topic='de-7-mantul', partition=0, topic_partition=TopicPartition(topic='de-7-mantul', partition=0), offset=36, timestamp=1730001879685, log_start_offset=0, checksum=None, serialized_key_size=-1, serialized_value_size=181, serialized_header_size=-1)\n",
      "591f6fe8-0171-4d46-8d8a-086f5511a328 RecordMetadata(topic='de-7-mantul', partition=0, topic_partition=TopicPartition(topic='de-7-mantul', partition=0), offset=37, timestamp=1730001884690, log_start_offset=0, checksum=None, serialized_key_size=-1, serialized_value_size=188, serialized_header_size=-1)\n",
      "faa04dfd-5fbe-4854-8188-671b50b0af99 RecordMetadata(topic='de-7-mantul', partition=0, topic_partition=TopicPartition(topic='de-7-mantul', partition=0), offset=38, timestamp=1730001889697, log_start_offset=0, checksum=None, serialized_key_size=-1, serialized_value_size=181, serialized_header_size=-1)\n",
      "641870f8-de41-487c-8e65-ec7feadab654 RecordMetadata(topic='de-7-mantul', partition=0, topic_partition=TopicPartition(topic='de-7-mantul', partition=0), offset=39, timestamp=1730001894706, log_start_offset=0, checksum=None, serialized_key_size=-1, serialized_value_size=189, serialized_header_size=-1)\n",
      "ed1afd1b-562b-42df-abe1-1f21b021e28b RecordMetadata(topic='de-7-mantul', partition=0, topic_partition=TopicPartition(topic='de-7-mantul', partition=0), offset=40, timestamp=1730001899715, log_start_offset=0, checksum=None, serialized_key_size=-1, serialized_value_size=188, serialized_header_size=-1)\n",
      "6efda579-ffa4-4242-a0f9-dd07970e104c RecordMetadata(topic='de-7-mantul', partition=0, topic_partition=TopicPartition(topic='de-7-mantul', partition=0), offset=41, timestamp=1730001904724, log_start_offset=0, checksum=None, serialized_key_size=-1, serialized_value_size=182, serialized_header_size=-1)\n",
      "892944d2-b3ec-42f1-82ba-04cb8a5b7d91 RecordMetadata(topic='de-7-mantul', partition=0, topic_partition=TopicPartition(topic='de-7-mantul', partition=0), offset=42, timestamp=1730001909733, log_start_offset=0, checksum=None, serialized_key_size=-1, serialized_value_size=184, serialized_header_size=-1)\n",
      "4dab5818-3d2f-4c2d-9523-cefc289eb9a9 RecordMetadata(topic='de-7-mantul', partition=0, topic_partition=TopicPartition(topic='de-7-mantul', partition=0), offset=43, timestamp=1730001914742, log_start_offset=0, checksum=None, serialized_key_size=-1, serialized_value_size=185, serialized_header_size=-1)\n",
      "b96cb032-c362-499e-a288-c268869bd3b3 RecordMetadata(topic='de-7-mantul', partition=0, topic_partition=TopicPartition(topic='de-7-mantul', partition=0), offset=44, timestamp=1730001919751, log_start_offset=0, checksum=None, serialized_key_size=-1, serialized_value_size=184, serialized_header_size=-1)\n",
      "bf1f508f-3079-4e51-a1eb-4cd5c8575878 RecordMetadata(topic='de-7-mantul', partition=0, topic_partition=TopicPartition(topic='de-7-mantul', partition=0), offset=45, timestamp=1730001924757, log_start_offset=0, checksum=None, serialized_key_size=-1, serialized_value_size=184, serialized_header_size=-1)\n",
      "c4eacd24-d41f-40a6-b6ce-2fcef61abc6e RecordMetadata(topic='de-7-mantul', partition=0, topic_partition=TopicPartition(topic='de-7-mantul', partition=0), offset=46, timestamp=1730001929766, log_start_offset=0, checksum=None, serialized_key_size=-1, serialized_value_size=180, serialized_header_size=-1)\n",
      "70f6e91c-7b55-4703-8c48-97c46f8a4c99 RecordMetadata(topic='de-7-mantul', partition=0, topic_partition=TopicPartition(topic='de-7-mantul', partition=0), offset=47, timestamp=1730001934775, log_start_offset=0, checksum=None, serialized_key_size=-1, serialized_value_size=187, serialized_header_size=-1)\n",
      "92848b2c-f9c1-4304-9f60-53cf70a49581 RecordMetadata(topic='de-7-mantul', partition=0, topic_partition=TopicPartition(topic='de-7-mantul', partition=0), offset=48, timestamp=1730001939779, log_start_offset=0, checksum=None, serialized_key_size=-1, serialized_value_size=183, serialized_header_size=-1)\n",
      "85d92b4a-80a6-4fbd-a281-e4c92c6482fb RecordMetadata(topic='de-7-mantul', partition=0, topic_partition=TopicPartition(topic='de-7-mantul', partition=0), offset=49, timestamp=1730001944787, log_start_offset=0, checksum=None, serialized_key_size=-1, serialized_value_size=176, serialized_header_size=-1)\n",
      "560c982d-1ab5-49bc-b29a-c4dba3d802ce RecordMetadata(topic='de-7-mantul', partition=0, topic_partition=TopicPartition(topic='de-7-mantul', partition=0), offset=50, timestamp=1730001949796, log_start_offset=0, checksum=None, serialized_key_size=-1, serialized_value_size=184, serialized_header_size=-1)\n",
      "457f13e0-bb41-4629-a0ab-17690f7c5288 RecordMetadata(topic='de-7-mantul', partition=0, topic_partition=TopicPartition(topic='de-7-mantul', partition=0), offset=51, timestamp=1730001954805, log_start_offset=0, checksum=None, serialized_key_size=-1, serialized_value_size=180, serialized_header_size=-1)\n",
      "3ee0e4ca-ea17-4531-80fa-155afb4b501e RecordMetadata(topic='de-7-mantul', partition=0, topic_partition=TopicPartition(topic='de-7-mantul', partition=0), offset=52, timestamp=1730001959809, log_start_offset=0, checksum=None, serialized_key_size=-1, serialized_value_size=181, serialized_header_size=-1)\n",
      "7a17ecdf-f1e7-49cb-844d-c0aff4bb6ecf RecordMetadata(topic='de-7-mantul', partition=0, topic_partition=TopicPartition(topic='de-7-mantul', partition=0), offset=53, timestamp=1730001964816, log_start_offset=0, checksum=None, serialized_key_size=-1, serialized_value_size=180, serialized_header_size=-1)\n",
      "91589393-2624-4bb2-aadf-17f8dcb586cf RecordMetadata(topic='de-7-mantul', partition=0, topic_partition=TopicPartition(topic='de-7-mantul', partition=0), offset=54, timestamp=1730001969824, log_start_offset=0, checksum=None, serialized_key_size=-1, serialized_value_size=183, serialized_header_size=-1)\n",
      "3cb4ba6d-f1d6-420e-939e-160eeb34c444 RecordMetadata(topic='de-7-mantul', partition=0, topic_partition=TopicPartition(topic='de-7-mantul', partition=0), offset=55, timestamp=1730001974832, log_start_offset=0, checksum=None, serialized_key_size=-1, serialized_value_size=183, serialized_header_size=-1)\n",
      "68679df5-7f99-4021-bef4-2cb1fce815e6 RecordMetadata(topic='de-7-mantul', partition=0, topic_partition=TopicPartition(topic='de-7-mantul', partition=0), offset=56, timestamp=1730001979842, log_start_offset=0, checksum=None, serialized_key_size=-1, serialized_value_size=184, serialized_header_size=-1)\n",
      "17e05451-28a0-4ddc-9898-8dc9d0fb887b RecordMetadata(topic='de-7-mantul', partition=0, topic_partition=TopicPartition(topic='de-7-mantul', partition=0), offset=57, timestamp=1730001984852, log_start_offset=0, checksum=None, serialized_key_size=-1, serialized_value_size=187, serialized_header_size=-1)\n",
      "b7c11a02-0ec1-46e9-bc97-a9dac97e8f5a RecordMetadata(topic='de-7-mantul', partition=0, topic_partition=TopicPartition(topic='de-7-mantul', partition=0), offset=58, timestamp=1730001989862, log_start_offset=0, checksum=None, serialized_key_size=-1, serialized_value_size=190, serialized_header_size=-1)\n",
      "65176992-3be2-42cb-bab3-0c4d755b1715 RecordMetadata(topic='de-7-mantul', partition=0, topic_partition=TopicPartition(topic='de-7-mantul', partition=0), offset=59, timestamp=1730001994869, log_start_offset=0, checksum=None, serialized_key_size=-1, serialized_value_size=178, serialized_header_size=-1)\n",
      "c031d2ce-5cfe-41a4-a05b-c40f905f7f08 RecordMetadata(topic='de-7-mantul', partition=0, topic_partition=TopicPartition(topic='de-7-mantul', partition=0), offset=60, timestamp=1730001999877, log_start_offset=0, checksum=None, serialized_key_size=-1, serialized_value_size=184, serialized_header_size=-1)\n",
      "4c549c86-378a-472c-b07c-48a9f55fcfb2 RecordMetadata(topic='de-7-mantul', partition=0, topic_partition=TopicPartition(topic='de-7-mantul', partition=0), offset=61, timestamp=1730002004884, log_start_offset=0, checksum=None, serialized_key_size=-1, serialized_value_size=181, serialized_header_size=-1)\n",
      "619574e1-a094-4b5c-bbf6-e45950394f87 RecordMetadata(topic='de-7-mantul', partition=0, topic_partition=TopicPartition(topic='de-7-mantul', partition=0), offset=62, timestamp=1730002009892, log_start_offset=0, checksum=None, serialized_key_size=-1, serialized_value_size=181, serialized_header_size=-1)\n",
      "6d80730e-7345-4f5e-ac3e-16521da8e192 RecordMetadata(topic='de-7-mantul', partition=0, topic_partition=TopicPartition(topic='de-7-mantul', partition=0), offset=63, timestamp=1730002014900, log_start_offset=0, checksum=None, serialized_key_size=-1, serialized_value_size=182, serialized_header_size=-1)\n",
      "edb30514-fa98-410f-a1c8-a1cb4ae7e703 RecordMetadata(topic='de-7-mantul', partition=0, topic_partition=TopicPartition(topic='de-7-mantul', partition=0), offset=64, timestamp=1730002019909, log_start_offset=0, checksum=None, serialized_key_size=-1, serialized_value_size=184, serialized_header_size=-1)\n",
      "f7fbe430-9daf-45f1-920d-9b9558a18ec0 RecordMetadata(topic='de-7-mantul', partition=0, topic_partition=TopicPartition(topic='de-7-mantul', partition=0), offset=65, timestamp=1730002024919, log_start_offset=0, checksum=None, serialized_key_size=-1, serialized_value_size=181, serialized_header_size=-1)\n",
      "590f5bcd-7d3f-48a1-bd20-f057ad4e3ebc RecordMetadata(topic='de-7-mantul', partition=0, topic_partition=TopicPartition(topic='de-7-mantul', partition=0), offset=66, timestamp=1730002029927, log_start_offset=0, checksum=None, serialized_key_size=-1, serialized_value_size=177, serialized_header_size=-1)\n",
      "c1797771-3ce2-42e7-aaf1-397c889c51ec RecordMetadata(topic='de-7-mantul', partition=0, topic_partition=TopicPartition(topic='de-7-mantul', partition=0), offset=67, timestamp=1730002034936, log_start_offset=0, checksum=None, serialized_key_size=-1, serialized_value_size=188, serialized_header_size=-1)\n",
      "4f66f38b-84a3-46c2-b77e-648d5b279d9f RecordMetadata(topic='de-7-mantul', partition=0, topic_partition=TopicPartition(topic='de-7-mantul', partition=0), offset=68, timestamp=1730002039944, log_start_offset=0, checksum=None, serialized_key_size=-1, serialized_value_size=184, serialized_header_size=-1)\n",
      "8d0b72b0-7cef-4f34-89f1-69fdb7b43086 RecordMetadata(topic='de-7-mantul', partition=0, topic_partition=TopicPartition(topic='de-7-mantul', partition=0), offset=69, timestamp=1730002044953, log_start_offset=0, checksum=None, serialized_key_size=-1, serialized_value_size=183, serialized_header_size=-1)\n",
      "297190d5-9f6d-4b32-a4d6-4deb9679ce2d RecordMetadata(topic='de-7-mantul', partition=0, topic_partition=TopicPartition(topic='de-7-mantul', partition=0), offset=70, timestamp=1730002049961, log_start_offset=0, checksum=None, serialized_key_size=-1, serialized_value_size=183, serialized_header_size=-1)\n",
      "f35b05b1-dec4-4065-bffd-55f7badaa16a RecordMetadata(topic='de-7-mantul', partition=0, topic_partition=TopicPartition(topic='de-7-mantul', partition=0), offset=71, timestamp=1730002054968, log_start_offset=0, checksum=None, serialized_key_size=-1, serialized_value_size=182, serialized_header_size=-1)\n",
      "d0284dee-281a-4b68-b397-4d9d162ae93f RecordMetadata(topic='de-7-mantul', partition=0, topic_partition=TopicPartition(topic='de-7-mantul', partition=0), offset=72, timestamp=1730002059976, log_start_offset=0, checksum=None, serialized_key_size=-1, serialized_value_size=187, serialized_header_size=-1)\n",
      "6370f884-9c3a-467a-932f-e7593dd5c82e RecordMetadata(topic='de-7-mantul', partition=0, topic_partition=TopicPartition(topic='de-7-mantul', partition=0), offset=73, timestamp=1730002064984, log_start_offset=0, checksum=None, serialized_key_size=-1, serialized_value_size=191, serialized_header_size=-1)\n",
      "7fdfc982-8330-4352-8d21-97d4955bf3e3 RecordMetadata(topic='de-7-mantul', partition=0, topic_partition=TopicPartition(topic='de-7-mantul', partition=0), offset=74, timestamp=1730002069991, log_start_offset=0, checksum=None, serialized_key_size=-1, serialized_value_size=190, serialized_header_size=-1)\n",
      "92664110-9ace-4773-88a9-8a58adf7c0ba RecordMetadata(topic='de-7-mantul', partition=0, topic_partition=TopicPartition(topic='de-7-mantul', partition=0), offset=75, timestamp=1730002074997, log_start_offset=0, checksum=None, serialized_key_size=-1, serialized_value_size=182, serialized_header_size=-1)\n",
      "09d49edb-5144-4e7c-92e1-52f7543220ca RecordMetadata(topic='de-7-mantul', partition=0, topic_partition=TopicPartition(topic='de-7-mantul', partition=0), offset=76, timestamp=1730002080006, log_start_offset=0, checksum=None, serialized_key_size=-1, serialized_value_size=184, serialized_header_size=-1)\n",
      "7ca8bcfd-d511-40f3-9057-5bbdb0985ae1 RecordMetadata(topic='de-7-mantul', partition=0, topic_partition=TopicPartition(topic='de-7-mantul', partition=0), offset=77, timestamp=1730002085014, log_start_offset=0, checksum=None, serialized_key_size=-1, serialized_value_size=180, serialized_header_size=-1)\n",
      "82b154c9-4269-4449-8357-d03078784562 RecordMetadata(topic='de-7-mantul', partition=0, topic_partition=TopicPartition(topic='de-7-mantul', partition=0), offset=78, timestamp=1730002090024, log_start_offset=0, checksum=None, serialized_key_size=-1, serialized_value_size=178, serialized_header_size=-1)\n",
      "d0174cf8-6ef0-411b-9138-2951a8fe39a4 RecordMetadata(topic='de-7-mantul', partition=0, topic_partition=TopicPartition(topic='de-7-mantul', partition=0), offset=79, timestamp=1730002095031, log_start_offset=0, checksum=None, serialized_key_size=-1, serialized_value_size=188, serialized_header_size=-1)\n",
      "9931d496-b180-4efc-8b15-d9cddb7871a1 RecordMetadata(topic='de-7-mantul', partition=0, topic_partition=TopicPartition(topic='de-7-mantul', partition=0), offset=80, timestamp=1730002100039, log_start_offset=0, checksum=None, serialized_key_size=-1, serialized_value_size=181, serialized_header_size=-1)\n",
      "664e9143-8f19-49c5-ba9a-9822432f8c33 RecordMetadata(topic='de-7-mantul', partition=0, topic_partition=TopicPartition(topic='de-7-mantul', partition=0), offset=81, timestamp=1730002105048, log_start_offset=0, checksum=None, serialized_key_size=-1, serialized_value_size=187, serialized_header_size=-1)\n",
      "c9ee685f-15e3-42c7-93f9-781c4fbc519e RecordMetadata(topic='de-7-mantul', partition=0, topic_partition=TopicPartition(topic='de-7-mantul', partition=0), offset=82, timestamp=1730002110054, log_start_offset=0, checksum=None, serialized_key_size=-1, serialized_value_size=183, serialized_header_size=-1)\n",
      "b9cc0d77-fd78-4fdf-8b63-7fda1e430a6e RecordMetadata(topic='de-7-mantul', partition=0, topic_partition=TopicPartition(topic='de-7-mantul', partition=0), offset=83, timestamp=1730002115062, log_start_offset=0, checksum=None, serialized_key_size=-1, serialized_value_size=180, serialized_header_size=-1)\n",
      "0ab8a657-a469-41bc-b29b-e56cd4d692d2 RecordMetadata(topic='de-7-mantul', partition=0, topic_partition=TopicPartition(topic='de-7-mantul', partition=0), offset=84, timestamp=1730002120069, log_start_offset=0, checksum=None, serialized_key_size=-1, serialized_value_size=181, serialized_header_size=-1)\n",
      "1b7630a0-d3a2-400a-86e6-438b69b5f68e RecordMetadata(topic='de-7-mantul', partition=0, topic_partition=TopicPartition(topic='de-7-mantul', partition=0), offset=85, timestamp=1730002125076, log_start_offset=0, checksum=None, serialized_key_size=-1, serialized_value_size=189, serialized_header_size=-1)\n",
      "3eee10b7-ed44-4772-bb83-3da65fc0e724 RecordMetadata(topic='de-7-mantul', partition=0, topic_partition=TopicPartition(topic='de-7-mantul', partition=0), offset=86, timestamp=1730002130085, log_start_offset=0, checksum=None, serialized_key_size=-1, serialized_value_size=182, serialized_header_size=-1)\n",
      "43d9e712-5f56-4742-9b93-bc9778284d8f RecordMetadata(topic='de-7-mantul', partition=0, topic_partition=TopicPartition(topic='de-7-mantul', partition=0), offset=87, timestamp=1730002135094, log_start_offset=0, checksum=None, serialized_key_size=-1, serialized_value_size=178, serialized_header_size=-1)\n",
      "59302804-15ec-45e7-b6bc-af64fbb71254 RecordMetadata(topic='de-7-mantul', partition=0, topic_partition=TopicPartition(topic='de-7-mantul', partition=0), offset=88, timestamp=1730002140103, log_start_offset=0, checksum=None, serialized_key_size=-1, serialized_value_size=182, serialized_header_size=-1)\n",
      "45c56355-e32e-480d-8cf1-d34524f38626 RecordMetadata(topic='de-7-mantul', partition=0, topic_partition=TopicPartition(topic='de-7-mantul', partition=0), offset=89, timestamp=1730002145112, log_start_offset=0, checksum=None, serialized_key_size=-1, serialized_value_size=186, serialized_header_size=-1)\n",
      "00429485-5361-45cc-9ef3-5cfd4f9aaacf RecordMetadata(topic='de-7-mantul', partition=0, topic_partition=TopicPartition(topic='de-7-mantul', partition=0), offset=90, timestamp=1730002150121, log_start_offset=0, checksum=None, serialized_key_size=-1, serialized_value_size=185, serialized_header_size=-1)\n",
      "6616b0d4-759d-4625-b959-ae71a9d4d465 RecordMetadata(topic='de-7-mantul', partition=0, topic_partition=TopicPartition(topic='de-7-mantul', partition=0), offset=91, timestamp=1730002155131, log_start_offset=0, checksum=None, serialized_key_size=-1, serialized_value_size=182, serialized_header_size=-1)\n",
      "b7bd8df8-b3d3-4d87-9a0d-0c2923823607 RecordMetadata(topic='de-7-mantul', partition=0, topic_partition=TopicPartition(topic='de-7-mantul', partition=0), offset=92, timestamp=1730002160142, log_start_offset=0, checksum=None, serialized_key_size=-1, serialized_value_size=183, serialized_header_size=-1)\n",
      "610929cd-1f91-4bab-8d95-ea45840f6cd7 RecordMetadata(topic='de-7-mantul', partition=0, topic_partition=TopicPartition(topic='de-7-mantul', partition=0), offset=93, timestamp=1730002165150, log_start_offset=0, checksum=None, serialized_key_size=-1, serialized_value_size=181, serialized_header_size=-1)\n",
      "825bdca6-956d-4498-8edc-f0d2f6d40ca3 RecordMetadata(topic='de-7-mantul', partition=0, topic_partition=TopicPartition(topic='de-7-mantul', partition=0), offset=94, timestamp=1730002170160, log_start_offset=0, checksum=None, serialized_key_size=-1, serialized_value_size=181, serialized_header_size=-1)\n",
      "e7eeea65-7011-4a1d-aec6-a1e9b5d9602a RecordMetadata(topic='de-7-mantul', partition=0, topic_partition=TopicPartition(topic='de-7-mantul', partition=0), offset=95, timestamp=1730002175169, log_start_offset=0, checksum=None, serialized_key_size=-1, serialized_value_size=178, serialized_header_size=-1)\n",
      "b3793480-a0b0-415d-a86c-b737ea685f01 RecordMetadata(topic='de-7-mantul', partition=0, topic_partition=TopicPartition(topic='de-7-mantul', partition=0), offset=96, timestamp=1730002180177, log_start_offset=0, checksum=None, serialized_key_size=-1, serialized_value_size=184, serialized_header_size=-1)\n",
      "bc94ca08-03b8-464b-811b-48c1cdbde556 RecordMetadata(topic='de-7-mantul', partition=0, topic_partition=TopicPartition(topic='de-7-mantul', partition=0), offset=97, timestamp=1730002185185, log_start_offset=0, checksum=None, serialized_key_size=-1, serialized_value_size=184, serialized_header_size=-1)\n",
      "2545bbd5-2cea-4e8f-bd52-0ef8880383d1 RecordMetadata(topic='de-7-mantul', partition=0, topic_partition=TopicPartition(topic='de-7-mantul', partition=0), offset=98, timestamp=1730002190189, log_start_offset=0, checksum=None, serialized_key_size=-1, serialized_value_size=182, serialized_header_size=-1)\n",
      "293592db-2132-4c7c-bcf8-b853f59384da RecordMetadata(topic='de-7-mantul', partition=0, topic_partition=TopicPartition(topic='de-7-mantul', partition=0), offset=99, timestamp=1730002195197, log_start_offset=0, checksum=None, serialized_key_size=-1, serialized_value_size=180, serialized_header_size=-1)\n",
      "e57adb26-3cef-4615-8686-24883b5ea685 RecordMetadata(topic='de-7-mantul', partition=0, topic_partition=TopicPartition(topic='de-7-mantul', partition=0), offset=100, timestamp=1730002200206, log_start_offset=0, checksum=None, serialized_key_size=-1, serialized_value_size=188, serialized_header_size=-1)\n",
      "91e1dbaa-449d-49f0-877e-be7c312663f8 RecordMetadata(topic='de-7-mantul', partition=0, topic_partition=TopicPartition(topic='de-7-mantul', partition=0), offset=101, timestamp=1730002205214, log_start_offset=0, checksum=None, serialized_key_size=-1, serialized_value_size=180, serialized_header_size=-1)\n",
      "6c10e9d2-a7eb-41a1-94f1-cfa89f788195 RecordMetadata(topic='de-7-mantul', partition=0, topic_partition=TopicPartition(topic='de-7-mantul', partition=0), offset=102, timestamp=1730002210220, log_start_offset=0, checksum=None, serialized_key_size=-1, serialized_value_size=185, serialized_header_size=-1)\n",
      "a926e269-625c-4c48-a8d7-80da12ed4004 RecordMetadata(topic='de-7-mantul', partition=0, topic_partition=TopicPartition(topic='de-7-mantul', partition=0), offset=103, timestamp=1730002215230, log_start_offset=0, checksum=None, serialized_key_size=-1, serialized_value_size=189, serialized_header_size=-1)\n",
      "158fac83-4cf1-4d7a-bbad-4bb69141e34d RecordMetadata(topic='de-7-mantul', partition=0, topic_partition=TopicPartition(topic='de-7-mantul', partition=0), offset=104, timestamp=1730002220237, log_start_offset=0, checksum=None, serialized_key_size=-1, serialized_value_size=177, serialized_header_size=-1)\n",
      "fd0deda3-b59a-4f9f-9d2c-75c7d797b90d RecordMetadata(topic='de-7-mantul', partition=0, topic_partition=TopicPartition(topic='de-7-mantul', partition=0), offset=105, timestamp=1730002225246, log_start_offset=0, checksum=None, serialized_key_size=-1, serialized_value_size=181, serialized_header_size=-1)\n",
      "b245d397-58fa-4b24-968b-7252a4ec2f8f RecordMetadata(topic='de-7-mantul', partition=0, topic_partition=TopicPartition(topic='de-7-mantul', partition=0), offset=106, timestamp=1730002230256, log_start_offset=0, checksum=None, serialized_key_size=-1, serialized_value_size=182, serialized_header_size=-1)\n",
      "c1fa39ea-ac5f-44fe-9fcf-fdfa186458ee RecordMetadata(topic='de-7-mantul', partition=0, topic_partition=TopicPartition(topic='de-7-mantul', partition=0), offset=107, timestamp=1730002235264, log_start_offset=0, checksum=None, serialized_key_size=-1, serialized_value_size=188, serialized_header_size=-1)\n",
      "e118c354-4f26-4985-a574-468745d06cf5 RecordMetadata(topic='de-7-mantul', partition=0, topic_partition=TopicPartition(topic='de-7-mantul', partition=0), offset=108, timestamp=1730002240273, log_start_offset=0, checksum=None, serialized_key_size=-1, serialized_value_size=188, serialized_header_size=-1)\n",
      "91d2d56a-8b46-4e3c-bc99-11ecd135018d RecordMetadata(topic='de-7-mantul', partition=0, topic_partition=TopicPartition(topic='de-7-mantul', partition=0), offset=109, timestamp=1730002245280, log_start_offset=0, checksum=None, serialized_key_size=-1, serialized_value_size=185, serialized_header_size=-1)\n",
      "d2062b2e-d1e5-4970-9760-96904f2c7f3f RecordMetadata(topic='de-7-mantul', partition=0, topic_partition=TopicPartition(topic='de-7-mantul', partition=0), offset=110, timestamp=1730002250290, log_start_offset=0, checksum=None, serialized_key_size=-1, serialized_value_size=183, serialized_header_size=-1)\n",
      "9d11b128-f4db-4092-98b9-74f180bea1f4 RecordMetadata(topic='de-7-mantul', partition=0, topic_partition=TopicPartition(topic='de-7-mantul', partition=0), offset=111, timestamp=1730002255301, log_start_offset=0, checksum=None, serialized_key_size=-1, serialized_value_size=185, serialized_header_size=-1)\n",
      "2c2014fd-9e1a-4912-90a6-de0046af842c RecordMetadata(topic='de-7-mantul', partition=0, topic_partition=TopicPartition(topic='de-7-mantul', partition=0), offset=112, timestamp=1730002260308, log_start_offset=0, checksum=None, serialized_key_size=-1, serialized_value_size=180, serialized_header_size=-1)\n",
      "53707d8c-280b-4fd3-8568-72f10785d2ef RecordMetadata(topic='de-7-mantul', partition=0, topic_partition=TopicPartition(topic='de-7-mantul', partition=0), offset=113, timestamp=1730002265317, log_start_offset=0, checksum=None, serialized_key_size=-1, serialized_value_size=183, serialized_header_size=-1)\n",
      "d90e40d5-1233-431a-bc3c-1bcb48fbec27 RecordMetadata(topic='de-7-mantul', partition=0, topic_partition=TopicPartition(topic='de-7-mantul', partition=0), offset=114, timestamp=1730002270326, log_start_offset=0, checksum=None, serialized_key_size=-1, serialized_value_size=182, serialized_header_size=-1)\n",
      "962b9c45-27a3-498b-b064-4003c25d5a1e RecordMetadata(topic='de-7-mantul', partition=0, topic_partition=TopicPartition(topic='de-7-mantul', partition=0), offset=115, timestamp=1730002275330, log_start_offset=0, checksum=None, serialized_key_size=-1, serialized_value_size=189, serialized_header_size=-1)\n",
      "da6f6c29-fce1-4fcd-a293-165d6c409d08 RecordMetadata(topic='de-7-mantul', partition=0, topic_partition=TopicPartition(topic='de-7-mantul', partition=0), offset=116, timestamp=1730002280340, log_start_offset=0, checksum=None, serialized_key_size=-1, serialized_value_size=181, serialized_header_size=-1)\n",
      "86b42c69-a67a-4ae0-a8f3-89072493d222 RecordMetadata(topic='de-7-mantul', partition=0, topic_partition=TopicPartition(topic='de-7-mantul', partition=0), offset=117, timestamp=1730002285349, log_start_offset=0, checksum=None, serialized_key_size=-1, serialized_value_size=180, serialized_header_size=-1)\n",
      "10a8d0d2-1640-4545-842a-5c5b14911316 RecordMetadata(topic='de-7-mantul', partition=0, topic_partition=TopicPartition(topic='de-7-mantul', partition=0), offset=118, timestamp=1730002290357, log_start_offset=0, checksum=None, serialized_key_size=-1, serialized_value_size=178, serialized_header_size=-1)\n",
      "b614c7af-f61d-4c88-a8f3-0cd4e555fa25 RecordMetadata(topic='de-7-mantul', partition=0, topic_partition=TopicPartition(topic='de-7-mantul', partition=0), offset=119, timestamp=1730002295367, log_start_offset=0, checksum=None, serialized_key_size=-1, serialized_value_size=181, serialized_header_size=-1)\n",
      "b0c34936-f551-4c6a-814f-041ec1ac98db RecordMetadata(topic='de-7-mantul', partition=0, topic_partition=TopicPartition(topic='de-7-mantul', partition=0), offset=120, timestamp=1730002300377, log_start_offset=0, checksum=None, serialized_key_size=-1, serialized_value_size=188, serialized_header_size=-1)\n",
      "7015ca56-a5ea-4977-9f7c-45af98e347c5 RecordMetadata(topic='de-7-mantul', partition=0, topic_partition=TopicPartition(topic='de-7-mantul', partition=0), offset=121, timestamp=1730002305386, log_start_offset=0, checksum=None, serialized_key_size=-1, serialized_value_size=179, serialized_header_size=-1)\n",
      "79357f49-8784-4a50-ad56-c18d38cc9290 RecordMetadata(topic='de-7-mantul', partition=0, topic_partition=TopicPartition(topic='de-7-mantul', partition=0), offset=122, timestamp=1730002310396, log_start_offset=0, checksum=None, serialized_key_size=-1, serialized_value_size=178, serialized_header_size=-1)\n",
      "ba57fbfc-b50e-46d3-8adc-5585fbb9eff2 RecordMetadata(topic='de-7-mantul', partition=0, topic_partition=TopicPartition(topic='de-7-mantul', partition=0), offset=123, timestamp=1730002315404, log_start_offset=0, checksum=None, serialized_key_size=-1, serialized_value_size=186, serialized_header_size=-1)\n",
      "a64a18cb-2c2f-4f85-8d62-9c6d5e9bbc81 RecordMetadata(topic='de-7-mantul', partition=0, topic_partition=TopicPartition(topic='de-7-mantul', partition=0), offset=124, timestamp=1730002320412, log_start_offset=0, checksum=None, serialized_key_size=-1, serialized_value_size=180, serialized_header_size=-1)\n",
      "d97036d7-270e-4094-a79b-d2c4c2d10afe RecordMetadata(topic='de-7-mantul', partition=0, topic_partition=TopicPartition(topic='de-7-mantul', partition=0), offset=125, timestamp=1730002325419, log_start_offset=0, checksum=None, serialized_key_size=-1, serialized_value_size=177, serialized_header_size=-1)\n",
      "a0379495-40fb-4d3a-83a1-1ea261f36fa7 RecordMetadata(topic='de-7-mantul', partition=0, topic_partition=TopicPartition(topic='de-7-mantul', partition=0), offset=126, timestamp=1730002330426, log_start_offset=0, checksum=None, serialized_key_size=-1, serialized_value_size=187, serialized_header_size=-1)\n",
      "56b69edf-a2d9-4fc4-8b6b-06f1557398b3 RecordMetadata(topic='de-7-mantul', partition=0, topic_partition=TopicPartition(topic='de-7-mantul', partition=0), offset=127, timestamp=1730002335434, log_start_offset=0, checksum=None, serialized_key_size=-1, serialized_value_size=184, serialized_header_size=-1)\n",
      "a0cab6f4-1984-4256-9887-a525165e0f40 RecordMetadata(topic='de-7-mantul', partition=0, topic_partition=TopicPartition(topic='de-7-mantul', partition=0), offset=128, timestamp=1730002340441, log_start_offset=0, checksum=None, serialized_key_size=-1, serialized_value_size=184, serialized_header_size=-1)\n",
      "95901891-8b74-4658-b70e-7f52ac52e7e3 RecordMetadata(topic='de-7-mantul', partition=0, topic_partition=TopicPartition(topic='de-7-mantul', partition=0), offset=129, timestamp=1730002345450, log_start_offset=0, checksum=None, serialized_key_size=-1, serialized_value_size=182, serialized_header_size=-1)\n",
      "09ed5381-64bb-4c9e-8b39-129a11e9d9e0 RecordMetadata(topic='de-7-mantul', partition=0, topic_partition=TopicPartition(topic='de-7-mantul', partition=0), offset=130, timestamp=1730002350458, log_start_offset=0, checksum=None, serialized_key_size=-1, serialized_value_size=184, serialized_header_size=-1)\n",
      "9778d0e0-67a6-4927-9629-a0cb0d163bc3 RecordMetadata(topic='de-7-mantul', partition=0, topic_partition=TopicPartition(topic='de-7-mantul', partition=0), offset=131, timestamp=1730002355467, log_start_offset=0, checksum=None, serialized_key_size=-1, serialized_value_size=189, serialized_header_size=-1)\n",
      "1221a43a-cdc1-47c0-93eb-1446fde5df6f RecordMetadata(topic='de-7-mantul', partition=0, topic_partition=TopicPartition(topic='de-7-mantul', partition=0), offset=132, timestamp=1730002360474, log_start_offset=0, checksum=None, serialized_key_size=-1, serialized_value_size=187, serialized_header_size=-1)\n",
      "ba896774-29a6-4b6d-86a3-836ceb70252a RecordMetadata(topic='de-7-mantul', partition=0, topic_partition=TopicPartition(topic='de-7-mantul', partition=0), offset=133, timestamp=1730002365484, log_start_offset=0, checksum=None, serialized_key_size=-1, serialized_value_size=189, serialized_header_size=-1)\n",
      "6c283054-d9e4-4ae5-9e47-d9499e4aa96e RecordMetadata(topic='de-7-mantul', partition=0, topic_partition=TopicPartition(topic='de-7-mantul', partition=0), offset=134, timestamp=1730002370494, log_start_offset=0, checksum=None, serialized_key_size=-1, serialized_value_size=178, serialized_header_size=-1)\n",
      "5411c969-8ed7-4d70-9ff8-a23002659f1d RecordMetadata(topic='de-7-mantul', partition=0, topic_partition=TopicPartition(topic='de-7-mantul', partition=0), offset=135, timestamp=1730002375503, log_start_offset=0, checksum=None, serialized_key_size=-1, serialized_value_size=193, serialized_header_size=-1)\n",
      "b75c471b-19b2-4cc1-be1a-4c95d0358488 RecordMetadata(topic='de-7-mantul', partition=0, topic_partition=TopicPartition(topic='de-7-mantul', partition=0), offset=136, timestamp=1730002380513, log_start_offset=0, checksum=None, serialized_key_size=-1, serialized_value_size=181, serialized_header_size=-1)\n",
      "e186b360-4f1e-4896-9eb9-08d56b1b08b3 RecordMetadata(topic='de-7-mantul', partition=0, topic_partition=TopicPartition(topic='de-7-mantul', partition=0), offset=137, timestamp=1730002385520, log_start_offset=0, checksum=None, serialized_key_size=-1, serialized_value_size=190, serialized_header_size=-1)\n",
      "476432df-4356-41f7-be9f-896c0aa192db RecordMetadata(topic='de-7-mantul', partition=0, topic_partition=TopicPartition(topic='de-7-mantul', partition=0), offset=138, timestamp=1730002390527, log_start_offset=0, checksum=None, serialized_key_size=-1, serialized_value_size=186, serialized_header_size=-1)\n",
      "44ac26c2-1445-4d36-ae5a-e7bb915263a8 RecordMetadata(topic='de-7-mantul', partition=0, topic_partition=TopicPartition(topic='de-7-mantul', partition=0), offset=139, timestamp=1730002395535, log_start_offset=0, checksum=None, serialized_key_size=-1, serialized_value_size=183, serialized_header_size=-1)\n",
      "6ddc8682-67fc-4c8c-9862-9a9058e1b494 RecordMetadata(topic='de-7-mantul', partition=0, topic_partition=TopicPartition(topic='de-7-mantul', partition=0), offset=140, timestamp=1730002400544, log_start_offset=0, checksum=None, serialized_key_size=-1, serialized_value_size=178, serialized_header_size=-1)\n",
      "d1a1b413-e17f-43d7-857d-1ff36fed71ed RecordMetadata(topic='de-7-mantul', partition=0, topic_partition=TopicPartition(topic='de-7-mantul', partition=0), offset=141, timestamp=1730002405553, log_start_offset=0, checksum=None, serialized_key_size=-1, serialized_value_size=181, serialized_header_size=-1)\n"
     ]
    },
    {
     "ename": "KeyboardInterrupt",
     "evalue": "",
     "output_type": "error",
     "traceback": [
      "\u001b[0;31m---------------------------------------------------------------------------\u001b[0m",
      "\u001b[0;31mKeyboardInterrupt\u001b[0m                         Traceback (most recent call last)",
      "Cell \u001b[0;32mIn[15], line 26\u001b[0m\n\u001b[1;32m     24\u001b[0m \u001b[38;5;28mprint\u001b[39m(json_data[\u001b[38;5;124m'\u001b[39m\u001b[38;5;124memp_id\u001b[39m\u001b[38;5;124m'\u001b[39m],response\u001b[38;5;241m.\u001b[39mget())\n\u001b[1;32m     25\u001b[0m \u001b[38;5;66;03m# print(_payload)\u001b[39;00m\n\u001b[0;32m---> 26\u001b[0m \u001b[43msleep\u001b[49m\u001b[43m(\u001b[49m\u001b[38;5;241;43m5\u001b[39;49m\u001b[43m)\u001b[49m\n",
      "\u001b[0;31mKeyboardInterrupt\u001b[0m: "
     ]
    }
   ],
   "source": [
    "class DataGenerator(object):\n",
    "    @staticmethod\n",
    "    def get_data():\n",
    "        return [\n",
    "                uuid.uuid4().__str__(),\n",
    "                faker.name(),\n",
    "                faker.random_element(elements=('IT', 'HR', 'Sales', 'Marketing')),\n",
    "                faker.random_element(elements=('CA', 'NY', 'TX', 'FL', 'IL', 'RJ')),\n",
    "                faker.random_int(min=10000, max=150000),\n",
    "                faker.random_int(min=18, max=60),\n",
    "                faker.random_int(min=0, max=100000),\n",
    "                faker.unix_time()\n",
    "        ]\n",
    "\n",
    "for i in range(1,400):\n",
    "    columns =  [\"emp_id\", \"employee_name\", \"department\", \"state\", \"salary\", \"age\", \"bonus\", \"ts\", \"new\"]\n",
    "    data_list = DataGenerator.get_data()\n",
    "    json_data = dict(\n",
    "        zip(columns,data_list)\n",
    "    )\n",
    "    _payload = json.dumps(json_data).encode(\"utf-8\")\n",
    "    response = producer.send(topic=kafka_topic_partition, value=_payload)\n",
    "    # response = producer.send(topic=kafka_topic_partition, value=_payload, partition=2)\n",
    "    print(json_data['emp_id'],response.get())\n",
    "    # print(_payload)\n",
    "    sleep(5)"
   ]
  },
  {
   "cell_type": "code",
   "execution_count": null,
   "id": "be1f121f-6f90-441c-a027-c095f5903ac9",
   "metadata": {},
   "outputs": [],
   "source": []
  }
 ],
 "metadata": {
  "kernelspec": {
   "display_name": "Python 3 (ipykernel)",
   "language": "python",
   "name": "python3"
  },
  "language_info": {
   "codemirror_mode": {
    "name": "ipython",
    "version": 3
   },
   "file_extension": ".py",
   "mimetype": "text/x-python",
   "name": "python",
   "nbconvert_exporter": "python",
   "pygments_lexer": "ipython3",
   "version": "3.10.10"
  }
 },
 "nbformat": 4,
 "nbformat_minor": 5
}
